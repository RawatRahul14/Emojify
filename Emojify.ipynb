{
  "nbformat": 4,
  "nbformat_minor": 0,
  "metadata": {
    "colab": {
      "provenance": []
    },
    "kernelspec": {
      "name": "python3",
      "display_name": "Python 3"
    },
    "language_info": {
      "name": "python"
    }
  },
  "cells": [
    {
      "cell_type": "code",
      "execution_count": null,
      "metadata": {
        "colab": {
          "base_uri": "https://localhost:8080/"
        },
        "id": "EtKAhAXzrQL8",
        "outputId": "950a2cff-28c3-4fa9-8e13-4ada8bdab31b"
      },
      "outputs": [
        {
          "output_type": "stream",
          "name": "stdout",
          "text": [
            "Requirement already satisfied: emoji in /usr/local/lib/python3.10/dist-packages (2.8.0)\n"
          ]
        }
      ],
      "source": [
        "!pip install emoji"
      ]
    },
    {
      "cell_type": "code",
      "source": [
        "!pip install keras"
      ],
      "metadata": {
        "colab": {
          "base_uri": "https://localhost:8080/"
        },
        "id": "dIaPellsr2jI",
        "outputId": "92943d8d-573e-4448-9eb3-9b8dfabff7ef"
      },
      "execution_count": null,
      "outputs": [
        {
          "output_type": "stream",
          "name": "stdout",
          "text": [
            "Requirement already satisfied: keras in /usr/local/lib/python3.10/dist-packages (2.12.0)\n"
          ]
        }
      ]
    },
    {
      "cell_type": "code",
      "source": [
        "import numpy as np\n",
        "import pandas as pd\n",
        "import emoji\n",
        "\n",
        "from keras.models import Sequential\n",
        "from keras.layers import Dense, LSTM, SimpleRNN, Embedding\n",
        "from keras.preprocessing.text import Tokenizer\n",
        "from keras.utils import pad_sequences\n",
        "from tensorflow.keras.utils import to_categorical"
      ],
      "metadata": {
        "id": "cHIo0njQroSk"
      },
      "execution_count": null,
      "outputs": []
    },
    {
      "cell_type": "code",
      "source": [
        "data = pd.read_csv(\"emoji_data.csv\", header = None)\n",
        "data.head()"
      ],
      "metadata": {
        "colab": {
          "base_uri": "https://localhost:8080/",
          "height": 204
        },
        "id": "dF6kS8vmsAlL",
        "outputId": "7fb60650-358b-4b2b-aca2-4405cd89ff10"
      },
      "execution_count": null,
      "outputs": [
        {
          "output_type": "execute_result",
          "data": {
            "text/plain": [
              "                             0  1\n",
              "0  French macaroon is so tasty  4\n",
              "1             work is horrible  3\n",
              "2                   I am upset  3\n",
              "3               throw the ball  1\n",
              "4                    Good joke  2"
            ],
            "text/html": [
              "\n",
              "  <div id=\"df-5eb38c5b-0b8e-4264-8eb3-a1226cfb536b\" class=\"colab-df-container\">\n",
              "    <div>\n",
              "<style scoped>\n",
              "    .dataframe tbody tr th:only-of-type {\n",
              "        vertical-align: middle;\n",
              "    }\n",
              "\n",
              "    .dataframe tbody tr th {\n",
              "        vertical-align: top;\n",
              "    }\n",
              "\n",
              "    .dataframe thead th {\n",
              "        text-align: right;\n",
              "    }\n",
              "</style>\n",
              "<table border=\"1\" class=\"dataframe\">\n",
              "  <thead>\n",
              "    <tr style=\"text-align: right;\">\n",
              "      <th></th>\n",
              "      <th>0</th>\n",
              "      <th>1</th>\n",
              "    </tr>\n",
              "  </thead>\n",
              "  <tbody>\n",
              "    <tr>\n",
              "      <th>0</th>\n",
              "      <td>French macaroon is so tasty</td>\n",
              "      <td>4</td>\n",
              "    </tr>\n",
              "    <tr>\n",
              "      <th>1</th>\n",
              "      <td>work is horrible</td>\n",
              "      <td>3</td>\n",
              "    </tr>\n",
              "    <tr>\n",
              "      <th>2</th>\n",
              "      <td>I am upset</td>\n",
              "      <td>3</td>\n",
              "    </tr>\n",
              "    <tr>\n",
              "      <th>3</th>\n",
              "      <td>throw the ball</td>\n",
              "      <td>1</td>\n",
              "    </tr>\n",
              "    <tr>\n",
              "      <th>4</th>\n",
              "      <td>Good joke</td>\n",
              "      <td>2</td>\n",
              "    </tr>\n",
              "  </tbody>\n",
              "</table>\n",
              "</div>\n",
              "    <div class=\"colab-df-buttons\">\n",
              "\n",
              "  <div class=\"colab-df-container\">\n",
              "    <button class=\"colab-df-convert\" onclick=\"convertToInteractive('df-5eb38c5b-0b8e-4264-8eb3-a1226cfb536b')\"\n",
              "            title=\"Convert this dataframe to an interactive table.\"\n",
              "            style=\"display:none;\">\n",
              "\n",
              "  <svg xmlns=\"http://www.w3.org/2000/svg\" height=\"24px\" viewBox=\"0 -960 960 960\">\n",
              "    <path d=\"M120-120v-720h720v720H120Zm60-500h600v-160H180v160Zm220 220h160v-160H400v160Zm0 220h160v-160H400v160ZM180-400h160v-160H180v160Zm440 0h160v-160H620v160ZM180-180h160v-160H180v160Zm440 0h160v-160H620v160Z\"/>\n",
              "  </svg>\n",
              "    </button>\n",
              "\n",
              "  <style>\n",
              "    .colab-df-container {\n",
              "      display:flex;\n",
              "      gap: 12px;\n",
              "    }\n",
              "\n",
              "    .colab-df-convert {\n",
              "      background-color: #E8F0FE;\n",
              "      border: none;\n",
              "      border-radius: 50%;\n",
              "      cursor: pointer;\n",
              "      display: none;\n",
              "      fill: #1967D2;\n",
              "      height: 32px;\n",
              "      padding: 0 0 0 0;\n",
              "      width: 32px;\n",
              "    }\n",
              "\n",
              "    .colab-df-convert:hover {\n",
              "      background-color: #E2EBFA;\n",
              "      box-shadow: 0px 1px 2px rgba(60, 64, 67, 0.3), 0px 1px 3px 1px rgba(60, 64, 67, 0.15);\n",
              "      fill: #174EA6;\n",
              "    }\n",
              "\n",
              "    .colab-df-buttons div {\n",
              "      margin-bottom: 4px;\n",
              "    }\n",
              "\n",
              "    [theme=dark] .colab-df-convert {\n",
              "      background-color: #3B4455;\n",
              "      fill: #D2E3FC;\n",
              "    }\n",
              "\n",
              "    [theme=dark] .colab-df-convert:hover {\n",
              "      background-color: #434B5C;\n",
              "      box-shadow: 0px 1px 3px 1px rgba(0, 0, 0, 0.15);\n",
              "      filter: drop-shadow(0px 1px 2px rgba(0, 0, 0, 0.3));\n",
              "      fill: #FFFFFF;\n",
              "    }\n",
              "  </style>\n",
              "\n",
              "    <script>\n",
              "      const buttonEl =\n",
              "        document.querySelector('#df-5eb38c5b-0b8e-4264-8eb3-a1226cfb536b button.colab-df-convert');\n",
              "      buttonEl.style.display =\n",
              "        google.colab.kernel.accessAllowed ? 'block' : 'none';\n",
              "\n",
              "      async function convertToInteractive(key) {\n",
              "        const element = document.querySelector('#df-5eb38c5b-0b8e-4264-8eb3-a1226cfb536b');\n",
              "        const dataTable =\n",
              "          await google.colab.kernel.invokeFunction('convertToInteractive',\n",
              "                                                    [key], {});\n",
              "        if (!dataTable) return;\n",
              "\n",
              "        const docLinkHtml = 'Like what you see? Visit the ' +\n",
              "          '<a target=\"_blank\" href=https://colab.research.google.com/notebooks/data_table.ipynb>data table notebook</a>'\n",
              "          + ' to learn more about interactive tables.';\n",
              "        element.innerHTML = '';\n",
              "        dataTable['output_type'] = 'display_data';\n",
              "        await google.colab.output.renderOutput(dataTable, element);\n",
              "        const docLink = document.createElement('div');\n",
              "        docLink.innerHTML = docLinkHtml;\n",
              "        element.appendChild(docLink);\n",
              "      }\n",
              "    </script>\n",
              "  </div>\n",
              "\n",
              "\n",
              "<div id=\"df-b4dd9b69-1f62-401e-a760-95426f666e2b\">\n",
              "  <button class=\"colab-df-quickchart\" onclick=\"quickchart('df-b4dd9b69-1f62-401e-a760-95426f666e2b')\"\n",
              "            title=\"Suggest charts.\"\n",
              "            style=\"display:none;\">\n",
              "\n",
              "<svg xmlns=\"http://www.w3.org/2000/svg\" height=\"24px\"viewBox=\"0 0 24 24\"\n",
              "     width=\"24px\">\n",
              "    <g>\n",
              "        <path d=\"M19 3H5c-1.1 0-2 .9-2 2v14c0 1.1.9 2 2 2h14c1.1 0 2-.9 2-2V5c0-1.1-.9-2-2-2zM9 17H7v-7h2v7zm4 0h-2V7h2v10zm4 0h-2v-4h2v4z\"/>\n",
              "    </g>\n",
              "</svg>\n",
              "  </button>\n",
              "\n",
              "<style>\n",
              "  .colab-df-quickchart {\n",
              "    background-color: #E8F0FE;\n",
              "    border: none;\n",
              "    border-radius: 50%;\n",
              "    cursor: pointer;\n",
              "    display: none;\n",
              "    fill: #1967D2;\n",
              "    height: 32px;\n",
              "    padding: 0 0 0 0;\n",
              "    width: 32px;\n",
              "  }\n",
              "\n",
              "  .colab-df-quickchart:hover {\n",
              "    background-color: #E2EBFA;\n",
              "    box-shadow: 0px 1px 2px rgba(60, 64, 67, 0.3), 0px 1px 3px 1px rgba(60, 64, 67, 0.15);\n",
              "    fill: #174EA6;\n",
              "  }\n",
              "\n",
              "  [theme=dark] .colab-df-quickchart {\n",
              "    background-color: #3B4455;\n",
              "    fill: #D2E3FC;\n",
              "  }\n",
              "\n",
              "  [theme=dark] .colab-df-quickchart:hover {\n",
              "    background-color: #434B5C;\n",
              "    box-shadow: 0px 1px 3px 1px rgba(0, 0, 0, 0.15);\n",
              "    filter: drop-shadow(0px 1px 2px rgba(0, 0, 0, 0.3));\n",
              "    fill: #FFFFFF;\n",
              "  }\n",
              "</style>\n",
              "\n",
              "  <script>\n",
              "    async function quickchart(key) {\n",
              "      const charts = await google.colab.kernel.invokeFunction(\n",
              "          'suggestCharts', [key], {});\n",
              "    }\n",
              "    (() => {\n",
              "      let quickchartButtonEl =\n",
              "        document.querySelector('#df-b4dd9b69-1f62-401e-a760-95426f666e2b button');\n",
              "      quickchartButtonEl.style.display =\n",
              "        google.colab.kernel.accessAllowed ? 'block' : 'none';\n",
              "    })();\n",
              "  </script>\n",
              "</div>\n",
              "    </div>\n",
              "  </div>\n"
            ]
          },
          "metadata": {},
          "execution_count": 22
        }
      ]
    },
    {
      "cell_type": "code",
      "source": [
        "emoji_dict = {\n",
        "    0 : \":red_heart:\",\n",
        "    1 : \":baseball:\",\n",
        "    2 : \":grinning_face_with_big_eyes:\",\n",
        "    3 : \":disappointed_face:\",\n",
        "    4 : \":fork_and_knife_with_plate:\"\n",
        "}\n",
        "\n",
        "def label_to_emoji(label):\n",
        "\n",
        "  return emoji.emojize(emoji_dict[label])"
      ],
      "metadata": {
        "id": "UcwL3PVvsN3I"
      },
      "execution_count": null,
      "outputs": []
    },
    {
      "cell_type": "code",
      "source": [
        "X = data[0].values\n",
        "Y = data[1].values"
      ],
      "metadata": {
        "id": "UjLFTMiJtUi2"
      },
      "execution_count": null,
      "outputs": []
    },
    {
      "cell_type": "code",
      "source": [
        "X"
      ],
      "metadata": {
        "colab": {
          "base_uri": "https://localhost:8080/"
        },
        "id": "GWHLA0Hctdf5",
        "outputId": "d9c9134b-412a-4506-a726-1489e2b9a77f"
      },
      "execution_count": null,
      "outputs": [
        {
          "output_type": "execute_result",
          "data": {
            "text/plain": [
              "array(['French macaroon is so tasty', 'work is horrible', 'I am upset',\n",
              "       'throw the ball', 'Good joke',\n",
              "       'what is your favorite baseball game', 'I cooked meat',\n",
              "       'stop messing around', 'I want chinese food',\n",
              "       'Let us go play baseball', 'you are failing this exercise',\n",
              "       'yesterday we lost again', 'Good job', 'ha ha ha it was so funny',\n",
              "       'I will have a cheese cake', 'Why are you feeling bad',\n",
              "       'I want to joke', 'I never said yes for this',\n",
              "       'the party is cancelled', 'where is the ball', 'I am frustrated',\n",
              "       'ha ha ha lol', 'she said yes', 'he got a raise',\n",
              "       'family is all I have', 'he can pitch really well',\n",
              "       'I love to the stars and back', 'do you like pizza ',\n",
              "       'You totally deserve this prize', 'I miss you so much',\n",
              "       'I like your jacket ', 'she got me a present',\n",
              "       'will you be my valentine', 'you failed the midterm',\n",
              "       'Who is down for a restaurant', 'valentine day is near',\n",
              "       'Great so awesome', 'do you have a ball', 'he can not do anything',\n",
              "       'he likes baseball', 'We had such a lovely dinner tonight',\n",
              "       'vegetables are healthy', 'he is a good friend',\n",
              "       'never talk to me again', 'i miss her', 'food is life',\n",
              "       'I am having fun', 'So bad that you cannot come with us',\n",
              "       'do you want to join me for dinner ', 'I like to smile',\n",
              "       'he did an amazing job', 'Stop shouting at me',\n",
              "       'I love taking breaks',\n",
              "       'You are incredibly intelligent and talented',\n",
              "       'I am proud of your achievements', 'So sad you are not coming',\n",
              "       'funny', 'Stop saying bullshit',\n",
              "       'Bravo for the announcement it got a lot of traction',\n",
              "       'This specialization is great',\n",
              "       'I was waiting for her for two hours ',\n",
              "       'she takes forever to get ready ',\n",
              "       'My grandmother is the love of my life', 'I will celebrate soon',\n",
              "       'my code is working but the grader gave me zero',\n",
              "       'She is the cutest person I have ever seen', 'he is laughing',\n",
              "       'I adore my dogs', 'I love you mum', 'great job',\n",
              "       'How dare you ask that', 'this guy was such a joke',\n",
              "       'I love indian food', 'Are you down for baseball this afternoon',\n",
              "       'this is bad', 'Your stupidity has no limit', 'I love my dad',\n",
              "       'Do you want to give me a hug', 'this girl was mean',\n",
              "       'I am excited', 'i miss him', 'What is wrong with you',\n",
              "       'they are so kind and friendly',\n",
              "       'I am so impressed by your dedication to this project',\n",
              "       'we made it', 'I am ordering food', 'Sounds like a fun plan ha ha',\n",
              "       'I am so happy for you', 'Miss you so much', 'I love you',\n",
              "       'this joke is killing me haha',\n",
              "       'You are not qualified for this position', 'miss you my dear',\n",
              "       'I want to eat', 'I am so excited to see you after so long',\n",
              "       'he is the best player', 'What a fun moment',\n",
              "       'my algorithm performs poorly', 'Stop shouting at me',\n",
              "       'her smile is so charming', 'It is the worst day in my life',\n",
              "       'he is handsome', 'no one likes him', 'she is attractive',\n",
              "       'It was funny lol', 'he is so cute', 'you did well on you exam',\n",
              "       'I think I will end up alone', 'Lets have food together',\n",
              "       'too bad that you were not here', 'I want to go play',\n",
              "       'you are a loser', 'I am starving', 'you suck', 'Congratulations',\n",
              "       'you could not solve it', 'I lost my wallet',\n",
              "       'she did not answer my text ', 'That catcher sucks ',\n",
              "       'See you at the restaurant', 'I boiled rice', 'I said yes',\n",
              "       'candy is life ', 'the game just finished',\n",
              "       'The first base man got the ball',\n",
              "       'congratulations on your acceptance',\n",
              "       'The assignment is too long ', 'lol',\n",
              "       'I got humiliated by my sister', 'I want to eat',\n",
              "       'the lectures are great though ', 'you did not do your homework',\n",
              "       'The baby is adorable', 'Bravo', 'I missed you',\n",
              "       'I am looking for a date', 'where is the food', 'you are awful',\n",
              "       'any suggestions for dinner', 'she is happy',\n",
              "       'I am always working', 'This is so funny', 'you got a down grade',\n",
              "       'I want to have sushi for dinner', 'she smiles a lot',\n",
              "       'The chicago cubs won again', 'I got approved', 'cookies are good',\n",
              "       'I hate him', 'I am going to the stadium',\n",
              "       'I am very disappointed', 'I am proud of you forever',\n",
              "       'This girl is messing with me', 'Congrats on the new job',\n",
              "       'enjoy your break', 'go away', 'I worked during my birthday',\n",
              "       'Congratulation fon have a baby', 'I am hungry',\n",
              "       'She is my dearest love', 'she is so cute', 'I love dogs',\n",
              "       'I did not have breakfast ', 'my dog just had a few puppies',\n",
              "       'I like you a lot', 'he had to make a home run',\n",
              "       'I am at the baseball game', 'are you serious ha ha',\n",
              "       'I like to laugh', 'Stop making this joke ha ha ha',\n",
              "       'you two are cute', 'This stupid grader is not working',\n",
              "       'What you did was awesome', 'My life is so boring',\n",
              "       'he did not answer', 'lets exercise', 'you brighten my day',\n",
              "       'I will go dance', 'lets brunch some day', 'dance with me',\n",
              "       'she is a bully', 'she plays baseball',\n",
              "       'I like it when people smile'], dtype=object)"
            ]
          },
          "metadata": {},
          "execution_count": 10
        }
      ]
    },
    {
      "cell_type": "code",
      "source": [
        "Y"
      ],
      "metadata": {
        "colab": {
          "base_uri": "https://localhost:8080/"
        },
        "id": "SWKbdxa2tfHx",
        "outputId": "cf28994f-66c2-4eeb-d746-c534a4f4bb9a"
      },
      "execution_count": null,
      "outputs": [
        {
          "output_type": "execute_result",
          "data": {
            "text/plain": [
              "array([4, 3, 3, 1, 2, 1, 4, 3, 4, 1, 3, 3, 2, 2, 4, 3, 2, 3, 3, 1, 3, 2,\n",
              "       2, 2, 0, 1, 0, 4, 2, 3, 2, 0, 0, 3, 4, 0, 2, 1, 3, 1, 0, 4, 0, 3,\n",
              "       0, 4, 2, 3, 4, 2, 2, 3, 0, 2, 2, 3, 2, 3, 2, 2, 3, 3, 0, 2, 3, 0,\n",
              "       2, 0, 0, 2, 3, 2, 4, 1, 3, 3, 0, 0, 3, 2, 0, 3, 0, 2, 2, 4, 2, 2,\n",
              "       0, 0, 2, 3, 0, 4, 2, 1, 2, 3, 3, 2, 3, 0, 3, 0, 2, 0, 2, 3, 4, 3,\n",
              "       1, 3, 4, 3, 2, 3, 3, 3, 1, 4, 4, 2, 2, 1, 1, 2, 3, 2, 3, 4, 2, 3,\n",
              "       0, 2, 0, 0, 4, 3, 4, 2, 3, 2, 3, 4, 2, 1, 2, 4, 3, 1, 3, 2, 3, 2,\n",
              "       2, 3, 3, 2, 4, 0, 0, 0, 3, 0, 0, 1, 1, 2, 2, 2, 0, 3, 2, 3, 3, 1,\n",
              "       2, 2, 4, 2, 3, 1, 2])"
            ]
          },
          "metadata": {},
          "execution_count": 24
        }
      ]
    },
    {
      "cell_type": "markdown",
      "source": [
        "# **Embeddings**"
      ],
      "metadata": {
        "id": "IdFY9HfKtj6j"
      }
    },
    {
      "cell_type": "code",
      "source": [
        "file = open(\"glove.6B.100d.txt\", \"r\", encoding = \"utf8\")\n",
        "\n",
        "content = file.readlines()\n",
        "file.close()"
      ],
      "metadata": {
        "id": "dQDbbmcrtffO"
      },
      "execution_count": null,
      "outputs": []
    },
    {
      "cell_type": "code",
      "source": [
        "embeddings = {}\n",
        "\n",
        "for line in content[:2]:\n",
        "  line = line.split()\n",
        "  print(line)"
      ],
      "metadata": {
        "colab": {
          "base_uri": "https://localhost:8080/"
        },
        "id": "E7rbumnYBJih",
        "outputId": "fe5688fa-934c-491f-d0a0-3a6e6b8a9395"
      },
      "execution_count": null,
      "outputs": [
        {
          "output_type": "stream",
          "name": "stdout",
          "text": [
            "['the', '-0.038194', '-0.24487', '0.72812', '-0.39961', '0.083172', '0.043953', '-0.39141', '0.3344', '-0.57545', '0.087459', '0.28787', '-0.06731', '0.30906', '-0.26384', '-0.13231', '-0.20757', '0.33395', '-0.33848', '-0.31743', '-0.48336', '0.1464', '-0.37304', '0.34577', '0.052041', '0.44946', '-0.46971', '0.02628', '-0.54155', '-0.15518', '-0.14107', '-0.039722', '0.28277', '0.14393', '0.23464', '-0.31021', '0.086173', '0.20397', '0.52624', '0.17164', '-0.082378', '-0.71787', '-0.41531', '0.20335', '-0.12763', '0.41367', '0.55187', '0.57908', '-0.33477', '-0.36559', '-0.54857', '-0.062892', '0.26584', '0.30205', '0.99775', '-0.80481', '-3.0243', '0.01254', '-0.36942', '2.2167', '0.72201', '-0.24978', '0.92136', '0.034514', '0.46745', '1.1079', '-0.19358', '-0.074575', '0.23353', '-0.052062', '-0.22044', '0.057162', '-0.15806', '-0.30798', '-0.41625', '0.37972', '0.15006', '-0.53212', '-0.2055', '-1.2526', '0.071624', '0.70565', '0.49744', '-0.42063', '0.26148', '-1.538', '-0.30223', '-0.073438', '-0.28312', '0.37104', '-0.25217', '0.016215', '-0.017099', '-0.38984', '0.87424', '-0.72569', '-0.51058', '-0.52028', '-0.1459', '0.8278', '0.27062']\n",
            "[',', '-0.10767', '0.11053', '0.59812', '-0.54361', '0.67396', '0.10663', '0.038867', '0.35481', '0.06351', '-0.094189', '0.15786', '-0.81665', '0.14172', '0.21939', '0.58505', '-0.52158', '0.22783', '-0.16642', '-0.68228', '0.3587', '0.42568', '0.19021', '0.91963', '0.57555', '0.46185', '0.42363', '-0.095399', '-0.42749', '-0.16567', '-0.056842', '-0.29595', '0.26037', '-0.26606', '-0.070404', '-0.27662', '0.15821', '0.69825', '0.43081', '0.27952', '-0.45437', '-0.33801', '-0.58184', '0.22364', '-0.5778', '-0.26862', '-0.20425', '0.56394', '-0.58524', '-0.14365', '-0.64218', '0.0054697', '-0.35248', '0.16162', '1.1796', '-0.47674', '-2.7553', '-0.1321', '-0.047729', '1.0655', '1.1034', '-0.2208', '0.18669', '0.13177', '0.15117', '0.7131', '-0.35215', '0.91348', '0.61783', '0.70992', '0.23955', '-0.14571', '-0.37859', '-0.045959', '-0.47368', '0.2385', '0.20536', '-0.18996', '0.32507', '-1.1112', '-0.36341', '0.98679', '-0.084776', '-0.54008', '0.11726', '-1.0194', '-0.24424', '0.12771', '0.013884', '0.080374', '-0.35414', '0.34951', '-0.7226', '0.37549', '0.4441', '-0.99059', '0.61214', '-0.35111', '-0.83155', '0.45293', '0.082577']\n"
          ]
        }
      ]
    },
    {
      "cell_type": "code",
      "source": [
        "for line in content:\n",
        "  line = line.split()\n",
        "  embeddings[line[0]] = np.array(line[1:], dtype = float)"
      ],
      "metadata": {
        "id": "DRLNQwnODmx0"
      },
      "execution_count": null,
      "outputs": []
    },
    {
      "cell_type": "code",
      "source": [
        "#embeddings"
      ],
      "metadata": {
        "id": "HWerF-noEFx3"
      },
      "execution_count": null,
      "outputs": []
    },
    {
      "cell_type": "code",
      "source": [
        "tokenizer = Tokenizer()\n",
        "\n",
        "tokenizer.fit_on_texts(X)\n",
        "word2index = tokenizer.word_index"
      ],
      "metadata": {
        "id": "W27pQyG7EGzV"
      },
      "execution_count": null,
      "outputs": []
    },
    {
      "cell_type": "code",
      "source": [
        "Xtokens = tokenizer.texts_to_sequences(X)"
      ],
      "metadata": {
        "id": "RhH8Ih5xF6BD"
      },
      "execution_count": null,
      "outputs": []
    },
    {
      "cell_type": "code",
      "source": [
        "def get_maxlen(data):\n",
        "  maxlen = 0\n",
        "\n",
        "  for sentence in data:\n",
        "    maxlen = max(maxlen, len(sentence))\n",
        "\n",
        "  return maxlen\n",
        "\n",
        "maxlen = get_maxlen(Xtokens)\n",
        "print(maxlen)"
      ],
      "metadata": {
        "colab": {
          "base_uri": "https://localhost:8080/"
        },
        "id": "QWuOX-dhGRgq",
        "outputId": "5da810e3-3a42-4c64-98e8-0a429c66aeba"
      },
      "execution_count": null,
      "outputs": [
        {
          "output_type": "stream",
          "name": "stdout",
          "text": [
            "10\n"
          ]
        }
      ]
    },
    {
      "cell_type": "code",
      "source": [
        "xtrain = pad_sequences(Xtokens,\n",
        "                       maxlen = maxlen,\n",
        "                       padding = \"post\",\n",
        "                       truncating = \"post\")"
      ],
      "metadata": {
        "id": "lXXe4IjHG8SJ"
      },
      "execution_count": null,
      "outputs": []
    },
    {
      "cell_type": "code",
      "source": [
        "xtrain[:2]"
      ],
      "metadata": {
        "colab": {
          "base_uri": "https://localhost:8080/"
        },
        "id": "p9PmpWl3IduY",
        "outputId": "688e8ba2-d845-438d-c039-2c36a4663e7d"
      },
      "execution_count": null,
      "outputs": [
        {
          "output_type": "execute_result",
          "data": {
            "text/plain": [
              "array([[103, 104,   3,   6, 105,   0,   0,   0,   0,   0],\n",
              "       [106,   3, 107,   0,   0,   0,   0,   0,   0,   0]], dtype=int32)"
            ]
          },
          "metadata": {},
          "execution_count": 20
        }
      ]
    },
    {
      "cell_type": "code",
      "source": [
        "ytrain = to_categorical(Y)"
      ],
      "metadata": {
        "id": "_ZsQpmT6Iqu0"
      },
      "execution_count": null,
      "outputs": []
    },
    {
      "cell_type": "markdown",
      "source": [
        "# **Model**"
      ],
      "metadata": {
        "id": "4tEdcN7cKu_E"
      }
    },
    {
      "cell_type": "code",
      "source": [
        "embd_size = 100\n",
        "\n",
        "embedding_matrix = np.zeros((len(word2index) + 1, embd_size))\n",
        "\n",
        "for word, i in word2index.items():\n",
        "    if word in embeddings:\n",
        "        embd_vector = embeddings[word]\n",
        "        embedding_matrix[i] = embd_vector\n",
        "    else:\n",
        "        # Handle the case when the word is not found in embeddings\n",
        "        # For example, you might assign a random vector or use a special token.\n",
        "        pass"
      ],
      "metadata": {
        "id": "nKonBOTOLxpS"
      },
      "execution_count": null,
      "outputs": []
    },
    {
      "cell_type": "code",
      "source": [
        "embedding_matrix.shape"
      ],
      "metadata": {
        "colab": {
          "base_uri": "https://localhost:8080/"
        },
        "id": "5unLBwTrOqQE",
        "outputId": "8a7d1be5-5004-4c50-bff5-50e68b237cda"
      },
      "execution_count": null,
      "outputs": [
        {
          "output_type": "execute_result",
          "data": {
            "text/plain": [
              "(313, 100)"
            ]
          },
          "metadata": {},
          "execution_count": 30
        }
      ]
    },
    {
      "cell_type": "code",
      "source": [
        "model = Sequential([\n",
        "    Embedding(input_dim = len(word2index)+1,\n",
        "              output_dim = embd_size,\n",
        "              input_length = maxlen,\n",
        "              weights = [embedding_matrix],\n",
        "              trainable = False),\n",
        "\n",
        "    LSTM(units = 16, return_sequences = True),\n",
        "    LSTM(units = 4),\n",
        "    Dense(units = 5, activation = \"softmax\")\n",
        "])\n",
        "\n",
        "model.compile(optimizer = \"adam\", loss = \"categorical_crossentropy\", metrics = [\"accuracy\"])"
      ],
      "metadata": {
        "id": "pH0byybPJLEK"
      },
      "execution_count": null,
      "outputs": []
    },
    {
      "cell_type": "code",
      "source": [
        "model.summary()"
      ],
      "metadata": {
        "colab": {
          "base_uri": "https://localhost:8080/"
        },
        "id": "MIbBIFK8PpcQ",
        "outputId": "40372f56-ca26-4f5d-ed8e-cd3aabd84720"
      },
      "execution_count": null,
      "outputs": [
        {
          "output_type": "stream",
          "name": "stdout",
          "text": [
            "Model: \"sequential\"\n",
            "_________________________________________________________________\n",
            " Layer (type)                Output Shape              Param #   \n",
            "=================================================================\n",
            " embedding_1 (Embedding)     (None, 10, 100)           31300     \n",
            "                                                                 \n",
            " lstm_2 (LSTM)               (None, 10, 16)            7488      \n",
            "                                                                 \n",
            " lstm_3 (LSTM)               (None, 4)                 336       \n",
            "                                                                 \n",
            " dense_1 (Dense)             (None, 5)                 25        \n",
            "                                                                 \n",
            "=================================================================\n",
            "Total params: 39,149\n",
            "Trainable params: 7,849\n",
            "Non-trainable params: 31,300\n",
            "_________________________________________________________________\n"
          ]
        }
      ]
    },
    {
      "cell_type": "code",
      "source": [
        "model.fit(xtrain, ytrain, epochs = 100)"
      ],
      "metadata": {
        "colab": {
          "base_uri": "https://localhost:8080/"
        },
        "id": "KvKXe6gWPxfK",
        "outputId": "8fc94310-661f-4be4-dfc2-c5adee159e97"
      },
      "execution_count": null,
      "outputs": [
        {
          "output_type": "stream",
          "name": "stdout",
          "text": [
            "Epoch 1/100\n",
            "6/6 [==============================] - 6s 20ms/step - loss: 1.6024 - accuracy: 0.2787\n",
            "Epoch 2/100\n",
            "6/6 [==============================] - 0s 19ms/step - loss: 1.5814 - accuracy: 0.2732\n",
            "Epoch 3/100\n",
            "6/6 [==============================] - 0s 19ms/step - loss: 1.5653 - accuracy: 0.2951\n",
            "Epoch 4/100\n",
            "6/6 [==============================] - 0s 21ms/step - loss: 1.5515 - accuracy: 0.3005\n",
            "Epoch 5/100\n",
            "6/6 [==============================] - 0s 20ms/step - loss: 1.5394 - accuracy: 0.3115\n",
            "Epoch 6/100\n",
            "6/6 [==============================] - 0s 18ms/step - loss: 1.5266 - accuracy: 0.3060\n",
            "Epoch 7/100\n",
            "6/6 [==============================] - 0s 18ms/step - loss: 1.5116 - accuracy: 0.3115\n",
            "Epoch 8/100\n",
            "6/6 [==============================] - 0s 20ms/step - loss: 1.4926 - accuracy: 0.3333\n",
            "Epoch 9/100\n",
            "6/6 [==============================] - 0s 18ms/step - loss: 1.4681 - accuracy: 0.3716\n",
            "Epoch 10/100\n",
            "6/6 [==============================] - 0s 17ms/step - loss: 1.4357 - accuracy: 0.4699\n",
            "Epoch 11/100\n",
            "6/6 [==============================] - 0s 19ms/step - loss: 1.3979 - accuracy: 0.5246\n",
            "Epoch 12/100\n",
            "6/6 [==============================] - 0s 18ms/step - loss: 1.3561 - accuracy: 0.5410\n",
            "Epoch 13/100\n",
            "6/6 [==============================] - 0s 19ms/step - loss: 1.3105 - accuracy: 0.5574\n",
            "Epoch 14/100\n",
            "6/6 [==============================] - 0s 18ms/step - loss: 1.2650 - accuracy: 0.5792\n",
            "Epoch 15/100\n",
            "6/6 [==============================] - 0s 18ms/step - loss: 1.2260 - accuracy: 0.5902\n",
            "Epoch 16/100\n",
            "6/6 [==============================] - 0s 18ms/step - loss: 1.1753 - accuracy: 0.6339\n",
            "Epoch 17/100\n",
            "6/6 [==============================] - 0s 17ms/step - loss: 1.1355 - accuracy: 0.6776\n",
            "Epoch 18/100\n",
            "6/6 [==============================] - 0s 17ms/step - loss: 1.0937 - accuracy: 0.6667\n",
            "Epoch 19/100\n",
            "6/6 [==============================] - 0s 21ms/step - loss: 1.0396 - accuracy: 0.6831\n",
            "Epoch 20/100\n",
            "6/6 [==============================] - 0s 22ms/step - loss: 1.0082 - accuracy: 0.7213\n",
            "Epoch 21/100\n",
            "6/6 [==============================] - 0s 23ms/step - loss: 0.9723 - accuracy: 0.6776\n",
            "Epoch 22/100\n",
            "6/6 [==============================] - 0s 27ms/step - loss: 0.9371 - accuracy: 0.7377\n",
            "Epoch 23/100\n",
            "6/6 [==============================] - 0s 22ms/step - loss: 0.9148 - accuracy: 0.7322\n",
            "Epoch 24/100\n",
            "6/6 [==============================] - 0s 23ms/step - loss: 0.8945 - accuracy: 0.7541\n",
            "Epoch 25/100\n",
            "6/6 [==============================] - 0s 21ms/step - loss: 0.8552 - accuracy: 0.7486\n",
            "Epoch 26/100\n",
            "6/6 [==============================] - 0s 24ms/step - loss: 0.8331 - accuracy: 0.7705\n",
            "Epoch 27/100\n",
            "6/6 [==============================] - 0s 19ms/step - loss: 0.8098 - accuracy: 0.7923\n",
            "Epoch 28/100\n",
            "6/6 [==============================] - 0s 18ms/step - loss: 0.7864 - accuracy: 0.8033\n",
            "Epoch 29/100\n",
            "6/6 [==============================] - 0s 20ms/step - loss: 0.7595 - accuracy: 0.8251\n",
            "Epoch 30/100\n",
            "6/6 [==============================] - 0s 19ms/step - loss: 0.7369 - accuracy: 0.8306\n",
            "Epoch 31/100\n",
            "6/6 [==============================] - 0s 19ms/step - loss: 0.7160 - accuracy: 0.8634\n",
            "Epoch 32/100\n",
            "6/6 [==============================] - 0s 18ms/step - loss: 0.7023 - accuracy: 0.8579\n",
            "Epoch 33/100\n",
            "6/6 [==============================] - 0s 18ms/step - loss: 0.6848 - accuracy: 0.8579\n",
            "Epoch 34/100\n",
            "6/6 [==============================] - 0s 18ms/step - loss: 0.6723 - accuracy: 0.8579\n",
            "Epoch 35/100\n",
            "6/6 [==============================] - 0s 18ms/step - loss: 0.6568 - accuracy: 0.8579\n",
            "Epoch 36/100\n",
            "6/6 [==============================] - 0s 19ms/step - loss: 0.6440 - accuracy: 0.8689\n",
            "Epoch 37/100\n",
            "6/6 [==============================] - 0s 18ms/step - loss: 0.6282 - accuracy: 0.8689\n",
            "Epoch 38/100\n",
            "6/6 [==============================] - 0s 18ms/step - loss: 0.6166 - accuracy: 0.8743\n",
            "Epoch 39/100\n",
            "6/6 [==============================] - 0s 18ms/step - loss: 0.6073 - accuracy: 0.8743\n",
            "Epoch 40/100\n",
            "6/6 [==============================] - 0s 18ms/step - loss: 0.5968 - accuracy: 0.8852\n",
            "Epoch 41/100\n",
            "6/6 [==============================] - 0s 17ms/step - loss: 0.5882 - accuracy: 0.8798\n",
            "Epoch 42/100\n",
            "6/6 [==============================] - 0s 17ms/step - loss: 0.5802 - accuracy: 0.8852\n",
            "Epoch 43/100\n",
            "6/6 [==============================] - 0s 19ms/step - loss: 0.5728 - accuracy: 0.8962\n",
            "Epoch 44/100\n",
            "6/6 [==============================] - 0s 19ms/step - loss: 0.5651 - accuracy: 0.8907\n",
            "Epoch 45/100\n",
            "6/6 [==============================] - 0s 20ms/step - loss: 0.5591 - accuracy: 0.8907\n",
            "Epoch 46/100\n",
            "6/6 [==============================] - 0s 20ms/step - loss: 0.5573 - accuracy: 0.8907\n",
            "Epoch 47/100\n",
            "6/6 [==============================] - 0s 24ms/step - loss: 0.5473 - accuracy: 0.8907\n",
            "Epoch 48/100\n",
            "6/6 [==============================] - 0s 22ms/step - loss: 0.5394 - accuracy: 0.8962\n",
            "Epoch 49/100\n",
            "6/6 [==============================] - 0s 20ms/step - loss: 0.5325 - accuracy: 0.8962\n",
            "Epoch 50/100\n",
            "6/6 [==============================] - 0s 19ms/step - loss: 0.5267 - accuracy: 0.9016\n",
            "Epoch 51/100\n",
            "6/6 [==============================] - 0s 15ms/step - loss: 0.5204 - accuracy: 0.9071\n",
            "Epoch 52/100\n",
            "6/6 [==============================] - 0s 13ms/step - loss: 0.5140 - accuracy: 0.9016\n",
            "Epoch 53/100\n",
            "6/6 [==============================] - 0s 13ms/step - loss: 0.5078 - accuracy: 0.9180\n",
            "Epoch 54/100\n",
            "6/6 [==============================] - 0s 12ms/step - loss: 0.5043 - accuracy: 0.9126\n",
            "Epoch 55/100\n",
            "6/6 [==============================] - 0s 13ms/step - loss: 0.5008 - accuracy: 0.9180\n",
            "Epoch 56/100\n",
            "6/6 [==============================] - 0s 12ms/step - loss: 0.4945 - accuracy: 0.9235\n",
            "Epoch 57/100\n",
            "6/6 [==============================] - 0s 13ms/step - loss: 0.4871 - accuracy: 0.9290\n",
            "Epoch 58/100\n",
            "6/6 [==============================] - 0s 13ms/step - loss: 0.4844 - accuracy: 0.9180\n",
            "Epoch 59/100\n",
            "6/6 [==============================] - 0s 12ms/step - loss: 0.4762 - accuracy: 0.9235\n",
            "Epoch 60/100\n",
            "6/6 [==============================] - 0s 13ms/step - loss: 0.4711 - accuracy: 0.9290\n",
            "Epoch 61/100\n",
            "6/6 [==============================] - 0s 12ms/step - loss: 0.4687 - accuracy: 0.9290\n",
            "Epoch 62/100\n",
            "6/6 [==============================] - 0s 13ms/step - loss: 0.4619 - accuracy: 0.9344\n",
            "Epoch 63/100\n",
            "6/6 [==============================] - 0s 12ms/step - loss: 0.4566 - accuracy: 0.9399\n",
            "Epoch 64/100\n",
            "6/6 [==============================] - 0s 13ms/step - loss: 0.4529 - accuracy: 0.9399\n",
            "Epoch 65/100\n",
            "6/6 [==============================] - 0s 12ms/step - loss: 0.4446 - accuracy: 0.9399\n",
            "Epoch 66/100\n",
            "6/6 [==============================] - 0s 13ms/step - loss: 0.4365 - accuracy: 0.9454\n",
            "Epoch 67/100\n",
            "6/6 [==============================] - 0s 12ms/step - loss: 0.4305 - accuracy: 0.9399\n",
            "Epoch 68/100\n",
            "6/6 [==============================] - 0s 12ms/step - loss: 0.4247 - accuracy: 0.9454\n",
            "Epoch 69/100\n",
            "6/6 [==============================] - 0s 12ms/step - loss: 0.4192 - accuracy: 0.9399\n",
            "Epoch 70/100\n",
            "6/6 [==============================] - 0s 13ms/step - loss: 0.4140 - accuracy: 0.9399\n",
            "Epoch 71/100\n",
            "6/6 [==============================] - 0s 14ms/step - loss: 0.4083 - accuracy: 0.9399\n",
            "Epoch 72/100\n",
            "6/6 [==============================] - 0s 13ms/step - loss: 0.4180 - accuracy: 0.9399\n",
            "Epoch 73/100\n",
            "6/6 [==============================] - 0s 12ms/step - loss: 0.4032 - accuracy: 0.9454\n",
            "Epoch 74/100\n",
            "6/6 [==============================] - 0s 13ms/step - loss: 0.3987 - accuracy: 0.9399\n",
            "Epoch 75/100\n",
            "6/6 [==============================] - 0s 13ms/step - loss: 0.3891 - accuracy: 0.9454\n",
            "Epoch 76/100\n",
            "6/6 [==============================] - 0s 13ms/step - loss: 0.3831 - accuracy: 0.9508\n",
            "Epoch 77/100\n",
            "6/6 [==============================] - 0s 14ms/step - loss: 0.3762 - accuracy: 0.9508\n",
            "Epoch 78/100\n",
            "6/6 [==============================] - 0s 13ms/step - loss: 0.3698 - accuracy: 0.9508\n",
            "Epoch 79/100\n",
            "6/6 [==============================] - 0s 13ms/step - loss: 0.3606 - accuracy: 0.9617\n",
            "Epoch 80/100\n",
            "6/6 [==============================] - 0s 12ms/step - loss: 0.3543 - accuracy: 0.9672\n",
            "Epoch 81/100\n",
            "6/6 [==============================] - 0s 12ms/step - loss: 0.3532 - accuracy: 0.9672\n",
            "Epoch 82/100\n",
            "6/6 [==============================] - 0s 14ms/step - loss: 0.3434 - accuracy: 0.9672\n",
            "Epoch 83/100\n",
            "6/6 [==============================] - 0s 14ms/step - loss: 0.3390 - accuracy: 0.9672\n",
            "Epoch 84/100\n",
            "6/6 [==============================] - 0s 12ms/step - loss: 0.3318 - accuracy: 0.9672\n",
            "Epoch 85/100\n",
            "6/6 [==============================] - 0s 12ms/step - loss: 0.3255 - accuracy: 0.9672\n",
            "Epoch 86/100\n",
            "6/6 [==============================] - 0s 12ms/step - loss: 0.3190 - accuracy: 0.9672\n",
            "Epoch 87/100\n",
            "6/6 [==============================] - 0s 13ms/step - loss: 0.3091 - accuracy: 0.9672\n",
            "Epoch 88/100\n",
            "6/6 [==============================] - 0s 13ms/step - loss: 0.3047 - accuracy: 0.9727\n",
            "Epoch 89/100\n",
            "6/6 [==============================] - 0s 14ms/step - loss: 0.3147 - accuracy: 0.9617\n",
            "Epoch 90/100\n",
            "6/6 [==============================] - 0s 13ms/step - loss: 0.3314 - accuracy: 0.9563\n",
            "Epoch 91/100\n",
            "6/6 [==============================] - 0s 14ms/step - loss: 0.3847 - accuracy: 0.9344\n",
            "Epoch 92/100\n",
            "6/6 [==============================] - 0s 12ms/step - loss: 0.3427 - accuracy: 0.9508\n",
            "Epoch 93/100\n",
            "6/6 [==============================] - 0s 12ms/step - loss: 0.3027 - accuracy: 0.9617\n",
            "Epoch 94/100\n",
            "6/6 [==============================] - 0s 12ms/step - loss: 0.2779 - accuracy: 0.9727\n",
            "Epoch 95/100\n",
            "6/6 [==============================] - 0s 15ms/step - loss: 0.2862 - accuracy: 0.9727\n",
            "Epoch 96/100\n",
            "6/6 [==============================] - 0s 13ms/step - loss: 0.2729 - accuracy: 0.9781\n",
            "Epoch 97/100\n",
            "6/6 [==============================] - 0s 13ms/step - loss: 0.2716 - accuracy: 0.9672\n",
            "Epoch 98/100\n",
            "6/6 [==============================] - 0s 14ms/step - loss: 0.2651 - accuracy: 0.9781\n",
            "Epoch 99/100\n",
            "6/6 [==============================] - 0s 14ms/step - loss: 0.2611 - accuracy: 0.9781\n",
            "Epoch 100/100\n",
            "6/6 [==============================] - 0s 12ms/step - loss: 0.2575 - accuracy: 0.9727\n"
          ]
        },
        {
          "output_type": "execute_result",
          "data": {
            "text/plain": [
              "<keras.callbacks.History at 0x7e097db5b580>"
            ]
          },
          "metadata": {},
          "execution_count": 34
        }
      ]
    },
    {
      "cell_type": "code",
      "source": [
        "test = [\"I feel good\", \"I feel very bad\", \"Lets eat dinner\", \"Hey\", \"Thank you\", \"Dinner Time\"]\n",
        "\n",
        "test_seq = tokenizer.texts_to_sequences(test)\n",
        "xtest = pad_sequences(test_seq, maxlen = maxlen, padding = \"post\", truncating = \"post\")\n",
        "\n",
        "y_pred = model.predict(xtest)\n",
        "y_pred = np.argmax(y_pred, axis = 1)\n",
        "\n",
        "for i in range(len(xtest)):\n",
        "  print(test[i], label_to_emoji(y_pred[i]))"
      ],
      "metadata": {
        "colab": {
          "base_uri": "https://localhost:8080/"
        },
        "id": "ZJtK_cVmP4pE",
        "outputId": "0a26aa82-46cb-40a1-91b6-5439bb9186b9"
      },
      "execution_count": null,
      "outputs": [
        {
          "output_type": "stream",
          "name": "stdout",
          "text": [
            "1/1 [==============================] - 0s 74ms/step\n",
            "I feel good 😃\n",
            "I feel very bad 😞\n",
            "Lets eat dinner 🍽️\n",
            "Hey 😃\n",
            "Thank you 😃\n",
            "Dinner Time 🍽️\n"
          ]
        }
      ]
    },
    {
      "cell_type": "code",
      "source": [],
      "metadata": {
        "id": "-VRrEdTJQqXt"
      },
      "execution_count": null,
      "outputs": []
    }
  ]
}